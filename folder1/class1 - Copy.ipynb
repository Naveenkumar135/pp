{
 "cells": [
  {
   "cell_type": "markdown",
   "id": "301028e5",
   "metadata": {},
   "source": [
    "# hi"
   ]
  },
  {
   "cell_type": "markdown",
   "id": "8efacd8f",
   "metadata": {},
   "source": [
    "# # hi"
   ]
  },
  {
   "cell_type": "code",
   "execution_count": 8,
   "id": "70758d82",
   "metadata": {},
   "outputs": [
    {
     "data": {
      "text/plain": [
       "5"
      ]
     },
     "execution_count": 8,
     "metadata": {},
     "output_type": "execute_result"
    }
   ],
   "source": [
    "2+3\n"
   ]
  },
  {
   "cell_type": "code",
   "execution_count": 9,
   "id": "385ebeb3",
   "metadata": {},
   "outputs": [],
   "source": [
    "#data types and variables"
   ]
  },
  {
   "cell_type": "code",
   "execution_count": 10,
   "id": "28c7eeef",
   "metadata": {},
   "outputs": [],
   "source": [
    "a=2"
   ]
  },
  {
   "cell_type": "code",
   "execution_count": 12,
   "id": "677f492d",
   "metadata": {},
   "outputs": [],
   "source": [
    "c=\"data science\""
   ]
  },
  {
   "cell_type": "code",
   "execution_count": 14,
   "id": "3fea335f",
   "metadata": {},
   "outputs": [
    {
     "data": {
      "text/plain": [
       "str"
      ]
     },
     "execution_count": 14,
     "metadata": {},
     "output_type": "execute_result"
    }
   ],
   "source": [
    "type(c)"
   ]
  },
  {
   "cell_type": "code",
   "execution_count": 1,
   "id": "69350e9e",
   "metadata": {},
   "outputs": [
    {
     "ename": "NameError",
     "evalue": "name 'hi' is not defined",
     "output_type": "error",
     "traceback": [
      "\u001b[1;31m---------------------------------------------------------------------------\u001b[0m",
      "\u001b[1;31mNameError\u001b[0m                                 Traceback (most recent call last)",
      "Input \u001b[1;32mIn [1]\u001b[0m, in \u001b[0;36m<cell line: 1>\u001b[1;34m()\u001b[0m\n\u001b[1;32m----> 1\u001b[0m \u001b[43mhi\u001b[49m\n",
      "\u001b[1;31mNameError\u001b[0m: name 'hi' is not defined"
     ]
    }
   ],
   "source": [
    "hi"
   ]
  },
  {
   "cell_type": "code",
   "execution_count": 2,
   "id": "6816833d",
   "metadata": {},
   "outputs": [
    {
     "name": "stdout",
     "output_type": "stream",
     "text": [
      "['False', 'None', 'True', '__peg_parser__', 'and', 'as', 'assert', 'async', 'await', 'break', 'class', 'continue', 'def', 'del', 'elif', 'else', 'except', 'finally', 'for', 'from', 'global', 'if', 'import', 'in', 'is', 'lambda', 'nonlocal', 'not', 'or', 'pass', 'raise', 'return', 'try', 'while', 'with', 'yield']\n"
     ]
    }
   ],
   "source": [
    "import keyword\n",
    "print(keyword.kwlist)"
   ]
  },
  {
   "cell_type": "code",
   "execution_count": 3,
   "id": "1cec302f",
   "metadata": {},
   "outputs": [
    {
     "data": {
      "text/plain": [
       "36"
      ]
     },
     "execution_count": 3,
     "metadata": {},
     "output_type": "execute_result"
    }
   ],
   "source": [
    "len(keyword.kwlist)"
   ]
  },
  {
   "cell_type": "code",
   "execution_count": 1,
   "id": "efc60885",
   "metadata": {},
   "outputs": [
    {
     "ename": "SyntaxError",
     "evalue": "invalid syntax (1900274305.py, line 1)",
     "output_type": "error",
     "traceback": [
      "\u001b[1;36m  Input \u001b[1;32mIn [1]\u001b[1;36m\u001b[0m\n\u001b[1;33m    try=20\u001b[0m\n\u001b[1;37m       ^\u001b[0m\n\u001b[1;31mSyntaxError\u001b[0m\u001b[1;31m:\u001b[0m invalid syntax\n"
     ]
    }
   ],
   "source": [
    "try=20"
   ]
  },
  {
   "cell_type": "code",
   "execution_count": 6,
   "id": "db5957b6",
   "metadata": {
    "scrolled": true
   },
   "outputs": [
    {
     "ename": "SyntaxError",
     "evalue": "cannot assign to False (543447851.py, line 1)",
     "output_type": "error",
     "traceback": [
      "\u001b[1;36m  Input \u001b[1;32mIn [6]\u001b[1;36m\u001b[0m\n\u001b[1;33m    False=0\u001b[0m\n\u001b[1;37m    ^\u001b[0m\n\u001b[1;31mSyntaxError\u001b[0m\u001b[1;31m:\u001b[0m cannot assign to False\n"
     ]
    }
   ],
   "source": [
    "False=0\n"
   ]
  },
  {
   "cell_type": "code",
   "execution_count": 7,
   "id": "1832944d",
   "metadata": {},
   "outputs": [],
   "source": [
    "### declaring variables"
   ]
  },
  {
   "cell_type": "code",
   "execution_count": 8,
   "id": "28cd8596",
   "metadata": {},
   "outputs": [],
   "source": [
    "###data types"
   ]
  },
  {
   "cell_type": "code",
   "execution_count": 9,
   "id": "58e6db39",
   "metadata": {},
   "outputs": [
    {
     "ename": "NameError",
     "evalue": "name 'string' is not defined",
     "output_type": "error",
     "traceback": [
      "\u001b[1;31m---------------------------------------------------------------------------\u001b[0m",
      "\u001b[1;31mNameError\u001b[0m                                 Traceback (most recent call last)",
      "Input \u001b[1;32mIn [9]\u001b[0m, in \u001b[0;36m<cell line: 4>\u001b[1;34m()\u001b[0m\n\u001b[0;32m      2\u001b[0m \u001b[38;5;28mfloat\u001b[39m\n\u001b[0;32m      3\u001b[0m \u001b[38;5;28mcomplex\u001b[39m\n\u001b[1;32m----> 4\u001b[0m \u001b[43mstring\u001b[49m \n\u001b[0;32m      5\u001b[0m \u001b[38;5;28mtuple\u001b[39m\n\u001b[0;32m      6\u001b[0m \u001b[38;5;28mlist\u001b[39m\n",
      "\u001b[1;31mNameError\u001b[0m: name 'string' is not defined"
     ]
    }
   ],
   "source": [
    "int\n",
    "float\n",
    "complex\n",
    "string \n",
    "tuple\n",
    "list\n",
    "sets\n",
    "dictionaries"
   ]
  },
  {
   "cell_type": "raw",
   "id": "227aeef3",
   "metadata": {},
   "source": []
  },
  {
   "cell_type": "code",
   "execution_count": 10,
   "id": "a7623f57",
   "metadata": {},
   "outputs": [],
   "source": [
    "#####"
   ]
  },
  {
   "cell_type": "code",
   "execution_count": 11,
   "id": "7dc5740a",
   "metadata": {},
   "outputs": [],
   "source": [
    "####example"
   ]
  },
  {
   "cell_type": "code",
   "execution_count": 12,
   "id": "a25d1b29",
   "metadata": {},
   "outputs": [
    {
     "data": {
      "text/plain": [
       "float"
      ]
     },
     "execution_count": 12,
     "metadata": {},
     "output_type": "execute_result"
    }
   ],
   "source": [
    "a=2.3\n",
    "type(a)"
   ]
  },
  {
   "cell_type": "code",
   "execution_count": 14,
   "id": "1807094b",
   "metadata": {},
   "outputs": [
    {
     "data": {
      "text/plain": [
       "complex"
      ]
     },
     "execution_count": 14,
     "metadata": {},
     "output_type": "execute_result"
    }
   ],
   "source": [
    "a=2+3j\n",
    "type(a)"
   ]
  },
  {
   "cell_type": "code",
   "execution_count": 15,
   "id": "d73f5e63",
   "metadata": {},
   "outputs": [],
   "source": [
    "#####"
   ]
  },
  {
   "cell_type": "code",
   "execution_count": 2,
   "id": "931b4e50",
   "metadata": {},
   "outputs": [],
   "source": [
    "####strings"
   ]
  },
  {
   "cell_type": "code",
   "execution_count": 3,
   "id": "8151dc48",
   "metadata": {},
   "outputs": [],
   "source": [
    "a=\"data science\""
   ]
  },
  {
   "cell_type": "code",
   "execution_count": 5,
   "id": "16c82028",
   "metadata": {},
   "outputs": [
    {
     "name": "stdout",
     "output_type": "stream",
     "text": [
      "n s\n"
     ]
    }
   ],
   "source": [
    "print(a[9],a[-7])"
   ]
  },
  {
   "cell_type": "code",
   "execution_count": 6,
   "id": "8ba028e6",
   "metadata": {},
   "outputs": [
    {
     "data": {
      "text/plain": [
       "'data'"
      ]
     },
     "execution_count": 6,
     "metadata": {},
     "output_type": "execute_result"
    }
   ],
   "source": [
    "a[0:4]"
   ]
  },
  {
   "cell_type": "code",
   "execution_count": 8,
   "id": "97305721",
   "metadata": {},
   "outputs": [
    {
     "data": {
      "text/plain": [
       "'ta scienc'"
      ]
     },
     "execution_count": 8,
     "metadata": {},
     "output_type": "execute_result"
    }
   ],
   "source": [
    "a[-10:-1]"
   ]
  },
  {
   "cell_type": "code",
   "execution_count": 9,
   "id": "9134dd1a",
   "metadata": {},
   "outputs": [
    {
     "data": {
      "text/plain": [
       "'ta science'"
      ]
     },
     "execution_count": 9,
     "metadata": {},
     "output_type": "execute_result"
    }
   ],
   "source": [
    "a[-10:]"
   ]
  },
  {
   "cell_type": "code",
   "execution_count": 11,
   "id": "f2e144e2",
   "metadata": {},
   "outputs": [
    {
     "data": {
      "text/plain": [
       "''"
      ]
     },
     "execution_count": 11,
     "metadata": {},
     "output_type": "execute_result"
    }
   ],
   "source": [
    "a[-10:0]"
   ]
  },
  {
   "cell_type": "code",
   "execution_count": 12,
   "id": "8f10cc2c",
   "metadata": {},
   "outputs": [],
   "source": [
    "d=\"data science\""
   ]
  },
  {
   "cell_type": "code",
   "execution_count": 13,
   "id": "b42922b5",
   "metadata": {},
   "outputs": [
    {
     "name": "stdout",
     "output_type": "stream",
     "text": [
      "*******\n",
      "DATA SCIENCE\n",
      "Data Science\n",
      "#######\n"
     ]
    }
   ],
   "source": [
    "print(\"*******\")\n",
    "print(d.upper())\n",
    "print(d.title())\n",
    "print(\"#######\")"
   ]
  },
  {
   "cell_type": "code",
   "execution_count": 14,
   "id": "1981eca6",
   "metadata": {},
   "outputs": [],
   "source": [
    "##another example"
   ]
  },
  {
   "cell_type": "code",
   "execution_count": 16,
   "id": "47f0059c",
   "metadata": {},
   "outputs": [
    {
     "name": "stdout",
     "output_type": "stream",
     "text": [
      "data\n",
      "False\n"
     ]
    }
   ],
   "source": [
    "d=\"data\"\n",
    "print(d)\n",
    "print(d.isupper())"
   ]
  },
  {
   "cell_type": "code",
   "execution_count": null,
   "id": "126124fd",
   "metadata": {},
   "outputs": [],
   "source": []
  }
 ],
 "metadata": {
  "kernelspec": {
   "display_name": "Python 3 (ipykernel)",
   "language": "python",
   "name": "python3"
  },
  "language_info": {
   "codemirror_mode": {
    "name": "ipython",
    "version": 3
   },
   "file_extension": ".py",
   "mimetype": "text/x-python",
   "name": "python",
   "nbconvert_exporter": "python",
   "pygments_lexer": "ipython3",
   "version": "3.9.12"
  }
 },
 "nbformat": 4,
 "nbformat_minor": 5
}
