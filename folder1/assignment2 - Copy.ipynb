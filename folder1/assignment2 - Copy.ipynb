{
 "cells": [
  {
   "cell_type": "code",
   "execution_count": 1,
   "id": "cfdd85f6",
   "metadata": {},
   "outputs": [],
   "source": [
    "#### Last letter to capital \"datA sceinceE machineE learningG\"\n",
    "#### \"atad ecneics enihcam gninrael\"\n",
    "#### Extract vowels in a seperate list\n",
    "#### Extract unique alphabets with loops and without loops\n",
    "#### Start with full lenght sting with each ittr reduce the lenght by 1"
   ]
  },
  {
   "cell_type": "code",
   "execution_count": 2,
   "id": "40b3c32e",
   "metadata": {},
   "outputs": [],
   "source": [
    "string=\"data science machine learning\""
   ]
  },
  {
   "cell_type": "code",
   "execution_count": 3,
   "id": "819682d0",
   "metadata": {},
   "outputs": [
    {
     "name": "stdout",
     "output_type": "stream",
     "text": [
      "datA sciencE machinE learninG "
     ]
    }
   ],
   "source": [
    "for i in string.split():\n",
    "    print((i[:-1]+i[-1].upper()),end=\" \")"
   ]
  },
  {
   "cell_type": "code",
   "execution_count": 4,
   "id": "8c1a06b4",
   "metadata": {},
   "outputs": [],
   "source": [
    "vowels=(\"a\",\"e\",\"i\",\"o\",\"u\")"
   ]
  },
  {
   "cell_type": "code",
   "execution_count": 5,
   "id": "3bf949da",
   "metadata": {},
   "outputs": [
    {
     "name": "stdout",
     "output_type": "stream",
     "text": [
      "a a i e e a i e e a i "
     ]
    }
   ],
   "source": [
    "for i in string:\n",
    "    if i in vowels:\n",
    "        print(i,end=\" \")"
   ]
  },
  {
   "cell_type": "code",
   "execution_count": 6,
   "id": "92df17e9",
   "metadata": {},
   "outputs": [
    {
     "name": "stdout",
     "output_type": "stream",
     "text": [
      "atad ecneics enihcam gninrael "
     ]
    }
   ],
   "source": [
    "for i in string.split():\n",
    "    print(i[-1: :-1],end=\" \")"
   ]
  },
  {
   "cell_type": "code",
   "execution_count": 7,
   "id": "c0cde114",
   "metadata": {},
   "outputs": [
    {
     "name": "stdout",
     "output_type": "stream",
     "text": [
      "data science machine learning\n",
      "data science machine learnin\n",
      "data science machine learni\n",
      "data science machine learn\n",
      "data science machine lear\n",
      "data science machine lea\n",
      "data science machine le\n",
      "data science machine l\n",
      "data science machine \n",
      "data science machine\n",
      "data science machin\n",
      "data science machi\n",
      "data science mach\n",
      "data science mac\n",
      "data science ma\n",
      "data science m\n",
      "data science \n",
      "data science\n",
      "data scienc\n",
      "data scien\n",
      "data scie\n",
      "data sci\n",
      "data sc\n",
      "data s\n",
      "data \n",
      "data\n",
      "dat\n",
      "da\n",
      "d\n"
     ]
    }
   ],
   "source": [
    "index=len(string)\n",
    "for i in string:\n",
    "    print(string[0:index])\n",
    "    index=index-1"
   ]
  },
  {
   "cell_type": "code",
   "execution_count": null,
   "id": "9c60deb2",
   "metadata": {},
   "outputs": [],
   "source": []
  }
 ],
 "metadata": {
  "hide_input": false,
  "kernelspec": {
   "display_name": "Python 3 (ipykernel)",
   "language": "python",
   "name": "python3"
  },
  "language_info": {
   "codemirror_mode": {
    "name": "ipython",
    "version": 3
   },
   "file_extension": ".py",
   "mimetype": "text/x-python",
   "name": "python",
   "nbconvert_exporter": "python",
   "pygments_lexer": "ipython3",
   "version": "3.9.12"
  },
  "toc": {
   "base_numbering": 1,
   "nav_menu": {},
   "number_sections": true,
   "sideBar": true,
   "skip_h1_title": false,
   "title_cell": "Table of Contents",
   "title_sidebar": "Contents",
   "toc_cell": false,
   "toc_position": {},
   "toc_section_display": true,
   "toc_window_display": false
  }
 },
 "nbformat": 4,
 "nbformat_minor": 5
}
